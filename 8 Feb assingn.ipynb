{
 "cells": [
  {
   "cell_type": "code",
   "execution_count": null,
   "id": "727c1e66-3599-4150-b346-e0d428cf8e41",
   "metadata": {},
   "outputs": [],
   "source": [
    "8 Febraury Assingment\n",
    "\n",
    "Submitted By -\"Nitish Tripathi\"\n",
    "To,\n",
    "   \"Pwskills\" Impact Batch for Data Science Masters."
   ]
  },
  {
   "cell_type": "markdown",
   "id": "0dc13a6d-8aa2-4d2e-bc31-0dc7f20ebc6e",
   "metadata": {},
   "source": [
    "Question 1-What is Abstraction in OOps? Explain with an example."
   ]
  },
  {
   "cell_type": "code",
   "execution_count": null,
   "id": "0dd83f35-9698-4ae4-bb20-0d066407781d",
   "metadata": {},
   "outputs": [],
   "source": [
    "Ans 1-Abstraction is one of the fundamental concepts of Object-Oriented Programming (OOPs) that involves hiding\n",
    "the implementation details of an object from the user and exposing only the relevant information or functionalities.\n",
    "\n",
    "In other words, 'abstraction' provides a simplified and generalized view of an object, allowing the user to \n",
    "interact with it without worrying about the underlying complexity.\n",
    "\n",
    "EXAMPLE: Lets take an example of a car to understand abstraction in OOPs. A car is a complex object that has\n",
    "various components like the engine, gearbox, brakes, steering, etc. However, when a user interacts with \n",
    "a car, he/she is only concerned about its functionalities such as starting the engine, accelerating, braking,\n",
    "or turning the steering wheel.\n",
    "\n",
    "Thus, abstraction helps to reduce the complexity of a system by hiding unnecessary details, making it easier\n",
    "to understand and maintain."
   ]
  },
  {
   "cell_type": "markdown",
   "id": "6db8e19a-a787-4eb3-8d48-170f9fb035eb",
   "metadata": {},
   "source": [
    "Question 2-Differentiate between Abstraction and Encapsulation. Explain with an example."
   ]
  },
  {
   "cell_type": "code",
   "execution_count": null,
   "id": "6094b84f-fb47-48f9-8d17-5142d1c2f028",
   "metadata": {},
   "outputs": [],
   "source": [
    "Ans-Abstraction and encapsulation are two fundamental concepts of Object-Oriented Programming (OOPs) that \n",
    "are closely related but have different meanings and purposes.\n",
    "\n",
    "Abstraction is the process of hiding the implementation details of an object and exposing only the relevant\n",
    "information or functionalities to the user. It allows the user to interact with an object without worrying\n",
    "about its underlying complexity. Abstraction is achieved through abstract classes, interfaces, and abstract methods.\n",
    "\n",
    "Encapsulation is the process of wrapping the data and methods that operate on that data into a single unit,\n",
    "called a class. It restricts access to the internal details of an object and allows access only through its \n",
    "public methods. Encapsulation is achieved through access modifiers such as public, private, and protected.\n",
    "\n",
    "EXAMPLE : Lets take an example to understand the difference between abstraction and encapsulation:\n",
    "\n",
    "Consider a Bank Account class that has attributes like account number, account holder name, balance, and methods\n",
    "like deposit(), withdraw(), and check_balance().\n",
    "\n",
    "Abstraction would involve hiding the implementation details of the Bank Account class from the user and exposing\n",
    "only the relevant functionalities. For example, the user only needs to know how to deposit, withdraw, and check the \n",
    "balance of the account, without worrying about how these functionalities are implemented internally.\n",
    "\n",
    "Encapsulation, on the other hand, would involve bundling the data and the methods that operate on that data into\n",
    "a single unit, called a class. For example, the Bank Account class would encapsulate the account number, account\n",
    "holder name, and balance attributes, and the deposit(), withdraw(), and check_balance() methods. Encapsulation \n",
    "ensures that the data is accessed and modified only through the methods provided by the Bank Account class, thus\n",
    "protecting the data from unauthorized access and modification."
   ]
  },
  {
   "cell_type": "markdown",
   "id": "9da8dadc-e883-4ed4-8e9c-2d921d5b809b",
   "metadata": {},
   "source": [
    "Question 3-What is abc module in python? Why is it used?"
   ]
  },
  {
   "cell_type": "code",
   "execution_count": null,
   "id": "8689bee5-46db-4412-9bed-366dfb2a4a9c",
   "metadata": {},
   "outputs": [],
   "source": [
    "Ans-In Python, the abc (Abstract Base Classes) module provides a way to define abstract classes. \n",
    "An abstract class is a class that cannot be instantiated and serves as a blueprint for other classes to inherit from.\n",
    "\n",
    "The abc module is used to define abstract classes and enforce the implementation of certain methods in its subclasses.\n",
    "This ensures that the subclasses implement the required methods and follow the same interface, making the code more\n",
    "organized, maintainable, and easy to understand."
   ]
  },
  {
   "cell_type": "markdown",
   "id": "d268d8b4-6c38-47b0-af75-5439c1f9e8a3",
   "metadata": {},
   "source": [
    "Question 4-How can we achieve data abstraction?"
   ]
  },
  {
   "cell_type": "code",
   "execution_count": null,
   "id": "f93d6eb6-3d5e-4ee0-a000-7ad52c86f9bb",
   "metadata": {},
   "outputs": [],
   "source": [
    "Ans-We can achieve data abstraction in programming by using abstraction techniques such as encapsulation, \n",
    "data hiding, and access modifiers.\n",
    "\n",
    "1.'Encapsulation': Encapsulation is a technique that involves bundling the data and the methods that operate on\n",
    "that data into a single unit, called a class.\n",
    "2.'Data Hiding': Data hiding is the practice of hiding the internal data of an object from the outside world.\n",
    "3.'Access Modifiers': Access modifiers are used to control the visibility of the data and methods of a class.\n",
    "In Python, there are three access modifiers - public, protected, and private. \n",
    "\n",
    "By using these techniques, we can achieve data abstraction in programming."
   ]
  },
  {
   "cell_type": "markdown",
   "id": "ac1823eb-83f3-4a94-9d89-9cbfb117fe90",
   "metadata": {},
   "source": [
    "Question 5-Can we create an instance of an abstract class? Explain your answer."
   ]
  },
  {
   "cell_type": "code",
   "execution_count": null,
   "id": "71268a25-4d8a-4c1e-a78b-cc61e282241a",
   "metadata": {},
   "outputs": [],
   "source": [
    "Ans-No, we cannot create an instance of an abstract class in Python. An abstract class is a class that contains one \n",
    "or more abstract methods, and it is intended to be subclassed, not instantiated. An abstract method is a method that\n",
    "is declared but not implemented in the abstract class.\n",
    "\n",
    "In Python, we can define an abstract class by using the abc module, which provides the ABCMeta metaclass and the\n",
    "abstractmethod decorator. The ABCMeta metaclass is used to define abstract classes, and the abstractmethod decorator\n",
    "is used to mark a method as abstract.\n",
    "\n",
    "So,we cannot create an instance of an abstract class in Python because it is intended to be subclassed, not instantiated.\n",
    "An abstract class contains one or more abstract methods, and it is used as a blueprint for creating subclasses that\n",
    "implement these methods."
   ]
  }
 ],
 "metadata": {
  "kernelspec": {
   "display_name": "Python 3 (ipykernel)",
   "language": "python",
   "name": "python3"
  },
  "language_info": {
   "codemirror_mode": {
    "name": "ipython",
    "version": 3
   },
   "file_extension": ".py",
   "mimetype": "text/x-python",
   "name": "python",
   "nbconvert_exporter": "python",
   "pygments_lexer": "ipython3",
   "version": "3.10.8"
  }
 },
 "nbformat": 4,
 "nbformat_minor": 5
}
